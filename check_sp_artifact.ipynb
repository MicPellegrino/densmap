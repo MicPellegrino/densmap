{
 "cells": [
  {
   "cell_type": "code",
   "execution_count": 1,
   "id": "dfa1540a",
   "metadata": {},
   "outputs": [],
   "source": [
    "import densmap as dm\n",
    "import numpy as np\n",
    "import matplotlib.pyplot as plt"
   ]
  },
  {
   "cell_type": "code",
   "execution_count": 2,
   "id": "16ba2371",
   "metadata": {},
   "outputs": [],
   "source": [
    "def average_temp_map(ni,nf,nx,nz,fp,tag='') :\n",
    "    temp_map = np.zeros((nx,nz))\n",
    "    for i in range(ni,nf+1) :\n",
    "        temp_map += dm.read_temperature_file(fp+'/flow_'+tag+str(i).zfill(5)+'.dat')\n",
    "    temp_map /= (nf+1-ni)\n",
    "    return temp_map"
   ]
  },
  {
   "cell_type": "code",
   "execution_count": 3,
   "id": "f070b5fe",
   "metadata": {},
   "outputs": [],
   "source": [
    "#########################################################################"
   ]
  },
  {
   "cell_type": "code",
   "execution_count": 4,
   "id": "ec1ab5a4",
   "metadata": {},
   "outputs": [],
   "source": [
    "Lx_tag = ['020','040','060','080','100']\n",
    "Lx_vec = [19.80000,39.60000,59.85000,79.65000,99.90000]\n",
    "Ly = 4.67654\n",
    "Lz = 6.00000"
   ]
  },
  {
   "cell_type": "code",
   "execution_count": 5,
   "id": "e43cbd23",
   "metadata": {},
   "outputs": [],
   "source": [
    "nx_vec = [99,198,299,398,500]\n",
    "nz = 30"
   ]
  },
  {
   "cell_type": "code",
   "execution_count": 6,
   "id": "abb88d8d",
   "metadata": {},
   "outputs": [],
   "source": [
    "folder_list = ['TempSp'+lt for lt in Lx_tag]"
   ]
  },
  {
   "cell_type": "code",
   "execution_count": 7,
   "id": "0f94cda0",
   "metadata": {},
   "outputs": [],
   "source": [
    "nframes = 200\n",
    "ninit = 100"
   ]
  },
  {
   "cell_type": "code",
   "execution_count": 8,
   "id": "5595d735",
   "metadata": {},
   "outputs": [],
   "source": [
    "### TEST ###\n",
    "# temp_map = dm.read_temperature_file('TempSp020/flow_00220.dat')\n",
    "# plt.matshow(temp_map[:,3:-3])\n",
    "# plt.show()\n",
    "### #### ###"
   ]
  },
  {
   "cell_type": "code",
   "execution_count": 9,
   "id": "0e557f14",
   "metadata": {},
   "outputs": [],
   "source": [
    "temp_maps = []\n",
    "for j in range(len(folder_list)) :\n",
    "    temp_maps.append(average_temp_map(ni=ninit,nf=nframes,nx=nx_vec[j],nz=nz,fp=folder_list[j]))"
   ]
  },
  {
   "cell_type": "code",
   "execution_count": 10,
   "id": "b4eac842",
   "metadata": {},
   "outputs": [],
   "source": [
    "j_skip = 3\n",
    "temp_profiles = []\n",
    "for tm in temp_maps :\n",
    "    temp_profiles.append(np.average(tm[:,j_skip:-j_skip],axis=1))"
   ]
  },
  {
   "cell_type": "code",
   "execution_count": 11,
   "id": "cd81c1e8",
   "metadata": {},
   "outputs": [],
   "source": [
    "plt.plot([0,1],[300,300],'k--',linewidth=3)\n",
    "for i in range(len(temp_profiles)) :\n",
    "    tp = temp_profiles[i]\n",
    "    lx_dimless = np.linspace(0,1,len(tp))\n",
    "    plt.plot(lx_dimless,tp,linewidth=3,label='Lx='+str(np.round(Lx_vec[i],2))+' nm')\n",
    "plt.xlabel(r'$x/L_x$',fontsize=25)\n",
    "plt.ylabel(r'$T$ [K]',fontsize=25)\n",
    "plt.xlim([0,1])\n",
    "plt.legend(fontsize=20)\n",
    "plt.tick_params(axis='both',labelsize=20)\n",
    "plt.show()"
   ]
  },
  {
   "cell_type": "code",
   "execution_count": 17,
   "id": "a9c4f2a3",
   "metadata": {},
   "outputs": [],
   "source": [
    "#########################################################################"
   ]
  },
  {
   "cell_type": "code",
   "execution_count": 18,
   "id": "6c8ac565",
   "metadata": {},
   "outputs": [],
   "source": [
    "Lx = 59.85000\n",
    "Ly = 4.67654\n",
    "Lz = 4.73855"
   ]
  },
  {
   "cell_type": "code",
   "execution_count": 19,
   "id": "73a3fe9d",
   "metadata": {},
   "outputs": [],
   "source": [
    "folder_name = \"TestSpTempWatPen\""
   ]
  },
  {
   "cell_type": "code",
   "execution_count": 20,
   "id": "09bd88aa",
   "metadata": {},
   "outputs": [],
   "source": [
    "nframes = 61\n",
    "ninit = 10\n",
    "nx = 299\n",
    "nz = 24\n",
    "tm = average_temp_map(ni=ninit,nf=nframes,nx=nx,nz=nz,fp=folder_name,tag='SOL_')\n",
    "tmx = np.average(tm,axis=1)\n",
    "lx_dimless = np.linspace(0,1,len(tmx))"
   ]
  },
  {
   "cell_type": "code",
   "execution_count": 21,
   "id": "f02bb22c",
   "metadata": {},
   "outputs": [],
   "source": [
    "plt.plot(lx_dimless,tmx)\n",
    "plt.show()"
   ]
  },
  {
   "cell_type": "code",
   "execution_count": null,
   "id": "521e3a87",
   "metadata": {},
   "outputs": [],
   "source": []
  }
 ],
 "metadata": {
  "kernelspec": {
   "display_name": "Python 3 (ipykernel)",
   "language": "python",
   "name": "python3"
  },
  "language_info": {
   "codemirror_mode": {
    "name": "ipython",
    "version": 3
   },
   "file_extension": ".py",
   "mimetype": "text/x-python",
   "name": "python",
   "nbconvert_exporter": "python",
   "pygments_lexer": "ipython3",
   "version": "3.7.4"
  }
 },
 "nbformat": 4,
 "nbformat_minor": 5
}
